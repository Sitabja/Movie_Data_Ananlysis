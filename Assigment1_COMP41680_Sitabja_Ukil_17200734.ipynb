{
 "cells": [
  {
   "cell_type": "markdown",
   "metadata": {},
   "source": [
    "# Sitabja Ukil - 17200734"
   ]
  },
  {
   "cell_type": "markdown",
   "metadata": {},
   "source": [
    "# COMP41680 -   Assignment 1: Data Collection & Preparation"
   ]
  },
  {
   "cell_type": "markdown",
   "metadata": {},
   "source": [
    "## Import packages"
   ]
  },
  {
   "cell_type": "code",
   "execution_count": 1,
   "metadata": {
    "collapsed": true
   },
   "outputs": [],
   "source": [
    "import os\n",
    "from urllib.request import urlopen\n",
    "import csv\n",
    "import pandas as pd \n",
    "import json\n",
    "\n",
    "#import for the supporting apis for analysis\n",
    "from itertools import chain\n",
    "from ast import literal_eval\n",
    "import numpy as np\n",
    "\n",
    "#import for visualization api\n",
    "import matplotlib\n",
    "import matplotlib.pyplot as plt\n",
    "import seaborn as sns\n",
    "\n",
    "\n",
    "%matplotlib inline"
   ]
  },
  {
   "cell_type": "markdown",
   "metadata": {},
   "source": [
    "## Task 1: Identify one or more suitable web APIs"
   ]
  },
  {
   "cell_type": "markdown",
   "metadata": {},
   "source": [
    "The API chosen for this assignment is https://www.themoviedb.org/documentation/api/discover. This is a very powerful API to get information about movies their ratings and reviews."
   ]
  },
  {
   "cell_type": "markdown",
   "metadata": {},
   "source": [
    "I am using an API to get information of the movies which are released after 1900. \n",
    "The Api key I have recieved is 3088d30de9df0e8832fd0436bdd62d98"
   ]
  },
  {
   "cell_type": "code",
   "execution_count": 2,
   "metadata": {
    "collapsed": true
   },
   "outputs": [],
   "source": [
    "api_key= \"3088d30de9df0e8832fd0436bdd62d98\""
   ]
  },
  {
   "cell_type": "code",
   "execution_count": 3,
   "metadata": {
    "collapsed": true
   },
   "outputs": [],
   "source": [
    "base_link = \"https://api.themoviedb.org/3\""
   ]
  },
  {
   "cell_type": "code",
   "execution_count": 4,
   "metadata": {
    "collapsed": true
   },
   "outputs": [],
   "source": [
    "movie_link = \"/discover/movie?primary_release_date.gte=1900-09-15\""
   ]
  },
  {
   "cell_type": "code",
   "execution_count": 5,
   "metadata": {
    "collapsed": true
   },
   "outputs": [],
   "source": [
    "movie_genres_link = \"/genre/movie/list?\" "
   ]
  },
  {
   "cell_type": "markdown",
   "metadata": {},
   "source": [
    "The API has a pagination in the response and each page has around 20 movies. Here , I am taking first 20 pages"
   ]
  },
  {
   "cell_type": "code",
   "execution_count": 6,
   "metadata": {
    "collapsed": true
   },
   "outputs": [],
   "source": [
    "pages = range(1,41);"
   ]
  },
  {
   "cell_type": "markdown",
   "metadata": {},
   "source": [
    "## Task 2: Collect data from your chosen API(s)"
   ]
  },
  {
   "cell_type": "markdown",
   "metadata": {},
   "source": [
    "functions to get the data from the api"
   ]
  },
  {
   "cell_type": "markdown",
   "metadata": {},
   "source": [
    "<font color='red' style=\"font-style:italic\">get the data from the given api</font>"
   ]
  },
  {
   "cell_type": "code",
   "execution_count": 7,
   "metadata": {
    "collapsed": true
   },
   "outputs": [],
   "source": [
    "def get_data_from_api(link,api_key,page,isGenre):\n",
    "    u = urlopen(link+\"&api_key=\"+api_key+\"&page=\"+str(page)); #open the url to read\n",
    "    resp = json.loads(u.read().decode('utf-8')) #load json data from the api \n",
    "    response = []\n",
    "    if (not isGenre): #check which ai is called\n",
    "        response = resp['results'];\n",
    "    else:\n",
    "        response = resp['genres']\n",
    "    return response"
   ]
  },
  {
   "cell_type": "markdown",
   "metadata": {},
   "source": [
    "<font color='red' style=\"font-style:italic\">In movie list genre filed has ids , this method is to chnage those ids to their appropriate name</font>"
   ]
  },
  {
   "cell_type": "code",
   "execution_count": 8,
   "metadata": {
    "collapsed": true
   },
   "outputs": [],
   "source": [
    "#merge the data from two apis, changes individual genre id to its name \n",
    "def change_genreId_name(movie_json,genre_json):\n",
    "    for movie in movie_json:\n",
    "        movie['genre'] = []\n",
    "        movie['genre'] = [obj[\"name\"] for obj in genre_json if obj[\"id\"] in movie['genre_ids'] ]\n",
    "    return movie_json"
   ]
  },
  {
   "cell_type": "markdown",
   "metadata": {},
   "source": [
    "<font color='red' style=\"font-style:italic\">get the filtereder data with respect to the given columns</font>"
   ]
  },
  {
   "cell_type": "code",
   "execution_count": 9,
   "metadata": {
    "collapsed": true
   },
   "outputs": [],
   "source": [
    "def get_filtered_data(response_json, columns):\n",
    "    filtered_data = []\n",
    "    for response in response_json:\n",
    "        data = {}\n",
    "        for key in response:\n",
    "            if key in columns:\n",
    "                data[key] = response[key];\n",
    "        filtered_data.append(data);\n",
    "    return filtered_data"
   ]
  },
  {
   "cell_type": "markdown",
   "metadata": {},
   "source": [
    "<font color='red' style=\"font-style:italic\">Write the filtered data to the csv</font>"
   ]
  },
  {
   "cell_type": "code",
   "execution_count": 10,
   "metadata": {
    "collapsed": true
   },
   "outputs": [],
   "source": [
    "def write_data_to_csv(file_loc,data_json):\n",
    "    is_header = True;\n",
    "    # open a file and write into it, newLine ='' is used to prevent the blanck line after each row\n",
    "    with open(file_loc, \"w\", newline='') as f: \n",
    "        csvwriter = csv.writer(f)\n",
    "        for data in data_json:\n",
    "            if (is_header):\n",
    "                #set the header of the csv\n",
    "                header = data.keys();\n",
    "                csvwriter.writerow(header);\n",
    "                is_header = False\n",
    "            try:\n",
    "                csvwriter.writerow(data.values())\n",
    "            except ValueError:\n",
    "                # rows having onknown character ( not english) are excluded\n",
    "                print('Unknown data found while writing the following row :')\n",
    "                print(data.values())\n",
    "    f.close();"
   ]
  },
  {
   "cell_type": "markdown",
   "metadata": {},
   "source": [
    "## Task 3: Parse the collected data, and store it in an appropriate file format"
   ]
  },
  {
   "cell_type": "markdown",
   "metadata": {},
   "source": [
    "<font color='red' style=\"font-style:italic\">Writting raw data into the data file</font>"
   ]
  },
  {
   "cell_type": "markdown",
   "metadata": {},
   "source": [
    "It uses the function defined in the previous steps to collect the raw data and filter it using some predefined filed and store it to an appropriate format. It excludes the rows having unknown characters, which"
   ]
  },
  {
   "cell_type": "code",
   "execution_count": 11,
   "metadata": {
    "scrolled": true
   },
   "outputs": [
    {
     "name": "stdout",
     "output_type": "stream",
     "text": [
      "Unknown data found while writing the following row :\n",
      "dict_values([0, 479363, False, 0, 'Kamen Rider Heisei Generations FINAL: Build & Ex-Aid with Legend Riders', 52.099561, '/cGhdduplj8YdAwg7iPCeGjO1YvZ.jpg', 'ja', '仮面ライダー平成ジェネレーションズFINAL ビルド＆エグゼイドwithレジェンドライダー', [28, 12, 878], '/aVnvDWF7dELkSzYJfzK9yrpvbv9.jpg', False, 'Kamen Riders Build and Ex-Aid team up with the legendary heroes of the Heisei Generation - OOO, Fourze, Gaim, and Ghost.', '2017-12-09', ['Action', 'Adventure', 'Science Fiction']])\n",
      "Unknown data found while writing the following row :\n",
      "dict_values([2, 458741, False, 8.5, 'Mayaanadhi', 37.560329, '/mNxAgWdHPWOAUVcI4kEuXvpo97j.jpg', 'ml', 'മായാനദി', [18, 10749], '/cWmknHr6VVNInXw6BmauPaldMnP.jpg', False, 'A shady money deal goes wrong and in the aftermath Mathan  ends up killing a police officer. Meanwhile in Kochi, his old flame Aparna  an aspiring actress is struggling to prop up her career. Mathan meets up with Aparna and tries to rekindle the past, even as the police hunt for him gets intense.', '2017-12-22', ['Drama', 'Romance']])\n",
      "Unknown data found while writing the following row :\n",
      "dict_values([3, 437543, False, 3, 'The Monkey King 3: Kingdom of Women', 36.812863, '/zMYnxPIkUVaRIuTpS77B8hLGkBB.jpg', 'zh', '西游记·女儿国', [28, 12, 14], '/xCF6Vkq1L5tTGENb07vzlQyXwKv.jpg', False, 'The third installment of the blockbuster fantasy series sees the return of the Monkey King (Aaron Kwok) in his most action-packed adventure yet! While continuing their epic journey to the West, the Monkey King and his companions are taken captive by the Queen of an all-female land, who believes them to be part of an ancient prophecy heralding the fall of her kingdom. With a lot of sorcery and a little bit of charm, the travelers devise a plan to escape. But when their trickery angers the mighty River God, they realize they might just bring about the foretold destruction - unless they can find a way to quell her wrath.', '2018-02-16', ['Action', 'Adventure', 'Fantasy']])\n",
      "Unknown data found while writing the following row :\n",
      "dict_values([2173, 8392, False, 8, 'My Neighbor Totoro', 34.222265, '/2i0OOjvi7CqNQA6ZtYJtL65P9oZ.jpg', 'ja', 'となりのトトロ', [14, 16, 10751], '/fYU3ckVE1zECs42ZO0uSoJpwlXi.jpg', False, 'Two sisters move to the country with their father in order to be closer to their hospitalized mother, and discover the surrounding trees are inhabited by Totoros, magical spirits of the forest. When the youngest runs away from home, the older sister seeks help from the spirits to find her.', '1988-04-16', ['Animation', 'Family', 'Fantasy']])\n",
      "Unknown data found while writing the following row :\n",
      "dict_values([5001, 129, False, 8.4, 'Spirited Away', 33.942001, '/dL11DBPcRhWWnJcFXl9A07MrqTI.jpg', 'ja', '千と千尋の神隠し', [16, 10751, 14], '/djgM2d3e42p9GFQObg6lwK2SVw2.jpg', False, 'A young girl, Chihiro, becomes trapped in a strange new world of spirits. When her parents undergo a mysterious transformation, she must call upon the courage she never knew she had to free her family.', '2001-07-20', ['Animation', 'Family', 'Fantasy']])\n",
      "Unknown data found while writing the following row :\n",
      "dict_values([4150, 68724, False, 6.4, 'Elysium', 32.164109, '/tHkjoAxmhp3Eau1h0Ir7maKMwUz.jpg', 'en', 'Elysium', [878, 28, 18, 53], '/vSbjlX9y8S2hKNURHEO4GsoIOay.jpg', False, 'In the year 2159, two classes of people exist: the very wealthy who live on a pristine man-made space station called Elysium, and the rest, who live on an overpopulated, ruined Earth. Secretary Rhodes (Jodie Foster), a hard line government ofﬁcial, will stop at nothing to enforce anti-immigration laws and preserve the luxurious lifestyle of the citizens of Elysium. That doesn’t stop the people of Earth from trying to get in, by any means they can. When unlucky Max (Matt Damon) is backed into a corner, he agrees to take on a daunting mission that, if successful, will not only save his life, but could bring equality to these polarized worlds.', '2013-08-07', ['Action', 'Drama', 'Science Fiction', 'Thriller']])\n",
      "Unknown data found while writing the following row :\n",
      "dict_values([2, 483877, False, 6, '15+ IQ Krachoot', 30.339268, '/1RxnEJzXYv5GgPszbHNsWTXPC6M.jpg', 'en', '15 ไอคิวกระฉูด', [35], '/fp3Iiap1hblJfqHrBDziqgl9zzB.jpg', False, 'A teenage comedy film about a young Yorkie. \"Rising\" opened the first movie on screen.  The story of fun gangs of teenage age 15+ hormones gurgling at the curiosity to try on their love and sex has spread out.', '2017-08-03', ['Comedy']])\n",
      "Unknown data found while writing the following row :\n",
      "dict_values([2628, 4935, False, 8.2, \"Howl's Moving Castle\", 29.084537, '/iMarB2ior30OAXjPa7QIdeyUfM1.jpg', 'ja', 'ハウルの動く城', [14, 16, 12], '/cGyqa5PxiWSsG7NSw3ufCj0JW9k.jpg', False, 'When Sophie, a shy young woman, is cursed with an old body by a spiteful witch, her only chance of breaking the spell lies with a self-indulgent yet insecure young wizard and his companions in his legged, walking home.', '2004-11-19', ['Adventure', 'Animation', 'Fantasy']])\n",
      "Unknown data found while writing the following row :\n",
      "dict_values([2558, 128, False, 8.3, 'Princess Mononoke', 29.083977, '/gzlJkVfWV5VEG5xK25cvFGJgkDz.jpg', 'ja', 'もののけ姫', [12, 14, 16], '/dWAYPAKlJi0n85P0xVEvQ2FOYLF.jpg', False, 'Ashitaka, a prince of the disappearing Ainu tribe, is cursed by a demonized boar god and must journey to the west to find a cure. Along the way, he encounters San, a young human woman fighting to protect the forest, and Lady Eboshi, who is trying to destroy it. Ashitaka must find a way to bring balance to this conflict.', '1997-07-12', ['Adventure', 'Animation', 'Fantasy']])\n",
      "Unknown data found while writing the following row :\n",
      "dict_values([1077, 346, False, 8.2, 'Seven Samurai', 24.957393, '/v6xrz4fr92KY1oNC3HsEvrsvR1n.jpg', 'ja', '七人の侍', [28, 18], '/qPuNawmymdzSLQ6zAQeeIZxuNfY.jpg', False, \"A samurai answers a village's request for protection after he falls on hard times. The town needs protection from bandits, so the samurai gathers six others to help him teach the people how to defend themselves, and the villagers provide the soldiers with food. A giant battle occurs when 40 bandits attack the village.\", '1954-04-26', ['Action', 'Drama']])\n",
      "Unknown data found while writing the following row :\n",
      "dict_values([2065, 372058, False, 8.5, 'Your Name.', 23.158323, '/xq1Ugd62d23K2knRUx6xxuALTZB.jpg', 'ja', '君の名は。', [10749, 16, 18], '/6vkhRvsRvWpmaRVyCXaxTkIEb7j.jpg', False, 'High schoolers Mitsuha and Taki are complete strangers living separate lives. But one night, they suddenly switch places. Mitsuha wakes up in Taki’s body, and he in hers. This bizarre occurrence continues to happen randomly, and the two must adjust their lives around each other.', '2016-08-26', ['Animation', 'Drama', 'Romance']])\n",
      "Unknown data found while writing the following row :\n",
      "dict_values([2542, 670, False, 8.1, 'Oldboy', 20.876074, '/rIZX6X0MIHYEebk6W4LABT9VP2c.jpg', 'ko', '올드보이', [18, 53, 9648, 28], '/qUxC2uJnHgGKq6Qvy4sYPxy0hoJ.jpg', False, 'With no clue how he came to be imprisoned, drugged and tortured for 15 years, a desperate businessman seeks revenge on his captors.', '2003-09-28', ['Action', 'Drama', 'Mystery', 'Thriller']])\n"
     ]
    }
   ],
   "source": [
    "response_json_movie = []\n",
    "for page in pages:\n",
    "    response_json_movie.extend(get_data_from_api(base_link+movie_link,api_key,page, False))\n",
    "    \n",
    "response_json_genre = get_data_from_api(base_link+movie_genres_link,api_key,1,True)\n",
    "\n",
    "# get the filtered data from the raw json\n",
    "filtered_data = change_genreId_name(response_json_movie, response_json_genre)\n",
    "#write the filtered data to csv file\n",
    "write_data_to_csv('Movie_data.csv',filtered_data);"
   ]
  },
  {
   "cell_type": "raw",
   "metadata": {},
   "source": [
    "From the exceptions we can see, the rows having characters other than english are excluded. There are 12 such rows which are excluded. "
   ]
  },
  {
   "cell_type": "markdown",
   "metadata": {},
   "source": [
    "## Task 4: Load and represent the data using an appropriate data structure. Apply any pre-processing steps to clean/filter/combine the data"
   ]
  },
  {
   "cell_type": "code",
   "execution_count": 12,
   "metadata": {},
   "outputs": [
    {
     "data": {
      "text/html": [
       "<div>\n",
       "<style>\n",
       "    .dataframe thead tr:only-child th {\n",
       "        text-align: right;\n",
       "    }\n",
       "\n",
       "    .dataframe thead th {\n",
       "        text-align: left;\n",
       "    }\n",
       "\n",
       "    .dataframe tbody tr th {\n",
       "        vertical-align: top;\n",
       "    }\n",
       "</style>\n",
       "<table border=\"1\" class=\"dataframe\">\n",
       "  <thead>\n",
       "    <tr style=\"text-align: right;\">\n",
       "      <th></th>\n",
       "      <th>vote_count</th>\n",
       "      <th>id</th>\n",
       "      <th>video</th>\n",
       "      <th>vote_average</th>\n",
       "      <th>title</th>\n",
       "      <th>popularity</th>\n",
       "      <th>poster_path</th>\n",
       "      <th>original_language</th>\n",
       "      <th>original_title</th>\n",
       "      <th>genre_ids</th>\n",
       "      <th>backdrop_path</th>\n",
       "      <th>adult</th>\n",
       "      <th>overview</th>\n",
       "      <th>release_date</th>\n",
       "      <th>genre</th>\n",
       "    </tr>\n",
       "  </thead>\n",
       "  <tbody>\n",
       "    <tr>\n",
       "      <th>783</th>\n",
       "      <td>2097</td>\n",
       "      <td>7446</td>\n",
       "      <td>False</td>\n",
       "      <td>6.5</td>\n",
       "      <td>Tropic Thunder</td>\n",
       "      <td>19.939552</td>\n",
       "      <td>/zoWUdaaWKPDyr9b0il0YcggDWgJ.jpg</td>\n",
       "      <td>en</td>\n",
       "      <td>Tropic Thunder</td>\n",
       "      <td>[28, 35]</td>\n",
       "      <td>/6TdYGyANd7QhcV6gsx4meW8Y9Wf.jpg</td>\n",
       "      <td>False</td>\n",
       "      <td>Vietnam veteran 'Four Leaf' Tayback's memoir, ...</td>\n",
       "      <td>2008-08-09</td>\n",
       "      <td>['Action', 'Comedy']</td>\n",
       "    </tr>\n",
       "    <tr>\n",
       "      <th>784</th>\n",
       "      <td>3311</td>\n",
       "      <td>854</td>\n",
       "      <td>False</td>\n",
       "      <td>6.7</td>\n",
       "      <td>The Mask</td>\n",
       "      <td>19.919275</td>\n",
       "      <td>/v8x8p441l1Bep8p82pAG6rduBoK.jpg</td>\n",
       "      <td>en</td>\n",
       "      <td>The Mask</td>\n",
       "      <td>[10749, 35, 80, 14]</td>\n",
       "      <td>/kQlLZ8JgzVhFH6hlZovZycQSxbP.jpg</td>\n",
       "      <td>False</td>\n",
       "      <td>When timid bank clerk Stanley Ipkiss discovers...</td>\n",
       "      <td>1994-07-29</td>\n",
       "      <td>['Comedy', 'Crime', 'Fantasy', 'Romance']</td>\n",
       "    </tr>\n",
       "    <tr>\n",
       "      <th>785</th>\n",
       "      <td>2490</td>\n",
       "      <td>44896</td>\n",
       "      <td>False</td>\n",
       "      <td>6.6</td>\n",
       "      <td>Rango</td>\n",
       "      <td>19.908856</td>\n",
       "      <td>/afxRbCwwKjrWgGJtsVNs1BW1Dk5.jpg</td>\n",
       "      <td>en</td>\n",
       "      <td>Rango</td>\n",
       "      <td>[16, 35, 10751, 37, 12]</td>\n",
       "      <td>/fX6o5DCdGVEEZ1OT1IourOUkQMb.jpg</td>\n",
       "      <td>False</td>\n",
       "      <td>When Rango, a lost family pet, accidentally wi...</td>\n",
       "      <td>2011-03-02</td>\n",
       "      <td>['Adventure', 'Animation', 'Comedy', 'Family',...</td>\n",
       "    </tr>\n",
       "    <tr>\n",
       "      <th>786</th>\n",
       "      <td>2279</td>\n",
       "      <td>11224</td>\n",
       "      <td>False</td>\n",
       "      <td>6.8</td>\n",
       "      <td>Cinderella</td>\n",
       "      <td>19.893925</td>\n",
       "      <td>/cdf4J7tDhSPAghWWgx9EnwQWBfF.jpg</td>\n",
       "      <td>en</td>\n",
       "      <td>Cinderella</td>\n",
       "      <td>[10751, 14, 16, 10749]</td>\n",
       "      <td>/xSN1cpugrzi8DjpVxtHeRRlbB6Q.jpg</td>\n",
       "      <td>False</td>\n",
       "      <td>Cinderella has faith her dreams of a better li...</td>\n",
       "      <td>1950-03-04</td>\n",
       "      <td>['Animation', 'Family', 'Fantasy', 'Romance']</td>\n",
       "    </tr>\n",
       "    <tr>\n",
       "      <th>787</th>\n",
       "      <td>1960</td>\n",
       "      <td>324849</td>\n",
       "      <td>False</td>\n",
       "      <td>7.2</td>\n",
       "      <td>The Lego Batman Movie</td>\n",
       "      <td>19.875023</td>\n",
       "      <td>/1pHOqpdCYNmtRVJs6pGKQKttrPm.jpg</td>\n",
       "      <td>en</td>\n",
       "      <td>The Lego Batman Movie</td>\n",
       "      <td>[28, 16, 35, 10751, 14]</td>\n",
       "      <td>/gbO4tWvMC0oLbNvHP9Zth3eUeAA.jpg</td>\n",
       "      <td>False</td>\n",
       "      <td>In the irreverent spirit of fun that made “The...</td>\n",
       "      <td>2017-02-08</td>\n",
       "      <td>['Action', 'Animation', 'Comedy', 'Family', 'F...</td>\n",
       "    </tr>\n",
       "  </tbody>\n",
       "</table>\n",
       "</div>"
      ],
      "text/plain": [
       "     vote_count      id  video  vote_average                  title  \\\n",
       "783        2097    7446  False           6.5         Tropic Thunder   \n",
       "784        3311     854  False           6.7               The Mask   \n",
       "785        2490   44896  False           6.6                  Rango   \n",
       "786        2279   11224  False           6.8             Cinderella   \n",
       "787        1960  324849  False           7.2  The Lego Batman Movie   \n",
       "\n",
       "     popularity                       poster_path original_language  \\\n",
       "783   19.939552  /zoWUdaaWKPDyr9b0il0YcggDWgJ.jpg                en   \n",
       "784   19.919275  /v8x8p441l1Bep8p82pAG6rduBoK.jpg                en   \n",
       "785   19.908856  /afxRbCwwKjrWgGJtsVNs1BW1Dk5.jpg                en   \n",
       "786   19.893925  /cdf4J7tDhSPAghWWgx9EnwQWBfF.jpg                en   \n",
       "787   19.875023  /1pHOqpdCYNmtRVJs6pGKQKttrPm.jpg                en   \n",
       "\n",
       "            original_title                genre_ids  \\\n",
       "783         Tropic Thunder                 [28, 35]   \n",
       "784               The Mask      [10749, 35, 80, 14]   \n",
       "785                  Rango  [16, 35, 10751, 37, 12]   \n",
       "786             Cinderella   [10751, 14, 16, 10749]   \n",
       "787  The Lego Batman Movie  [28, 16, 35, 10751, 14]   \n",
       "\n",
       "                        backdrop_path  adult  \\\n",
       "783  /6TdYGyANd7QhcV6gsx4meW8Y9Wf.jpg  False   \n",
       "784  /kQlLZ8JgzVhFH6hlZovZycQSxbP.jpg  False   \n",
       "785  /fX6o5DCdGVEEZ1OT1IourOUkQMb.jpg  False   \n",
       "786  /xSN1cpugrzi8DjpVxtHeRRlbB6Q.jpg  False   \n",
       "787  /gbO4tWvMC0oLbNvHP9Zth3eUeAA.jpg  False   \n",
       "\n",
       "                                              overview release_date  \\\n",
       "783  Vietnam veteran 'Four Leaf' Tayback's memoir, ...   2008-08-09   \n",
       "784  When timid bank clerk Stanley Ipkiss discovers...   1994-07-29   \n",
       "785  When Rango, a lost family pet, accidentally wi...   2011-03-02   \n",
       "786  Cinderella has faith her dreams of a better li...   1950-03-04   \n",
       "787  In the irreverent spirit of fun that made “The...   2017-02-08   \n",
       "\n",
       "                                                 genre  \n",
       "783                               ['Action', 'Comedy']  \n",
       "784          ['Comedy', 'Crime', 'Fantasy', 'Romance']  \n",
       "785  ['Adventure', 'Animation', 'Comedy', 'Family',...  \n",
       "786      ['Animation', 'Family', 'Fantasy', 'Romance']  \n",
       "787  ['Action', 'Animation', 'Comedy', 'Family', 'F...  "
      ]
     },
     "execution_count": 12,
     "metadata": {},
     "output_type": "execute_result"
    }
   ],
   "source": [
    "dataset = pd.read_csv('Movie_data.csv',engine='python') # engine=python  is used because without this it was not able to read some characters of the file\n",
    "dataset.tail(5)"
   ]
  },
  {
   "cell_type": "markdown",
   "metadata": {},
   "source": [
    "<font color='red' style=\"font-style:italic\">Drop Irrelevant columns</font>"
   ]
  },
  {
   "cell_type": "code",
   "execution_count": 13,
   "metadata": {
    "collapsed": true
   },
   "outputs": [],
   "source": [
    "#we already have genres by name we can drop genre_ids column\n",
    "dataset = dataset.drop(['genre_ids'], axis=1)\n",
    "#poster_path and basckdrop_path contain some image path, which are not relevant for this analysis, we can drop those two columns\n",
    "dataset = dataset.drop(['poster_path','backdrop_path'], axis=1)\n",
    "#overview contains description which is not useful for statistical analysis, dropping overview\n",
    "dataset = dataset.drop(['overview'], axis=1)"
   ]
  },
  {
   "cell_type": "code",
   "execution_count": 14,
   "metadata": {},
   "outputs": [
    {
     "data": {
      "text/html": [
       "<div>\n",
       "<style>\n",
       "    .dataframe thead tr:only-child th {\n",
       "        text-align: right;\n",
       "    }\n",
       "\n",
       "    .dataframe thead th {\n",
       "        text-align: left;\n",
       "    }\n",
       "\n",
       "    .dataframe tbody tr th {\n",
       "        vertical-align: top;\n",
       "    }\n",
       "</style>\n",
       "<table border=\"1\" class=\"dataframe\">\n",
       "  <thead>\n",
       "    <tr style=\"text-align: right;\">\n",
       "      <th></th>\n",
       "      <th>vote_count</th>\n",
       "      <th>id</th>\n",
       "      <th>video</th>\n",
       "      <th>vote_average</th>\n",
       "      <th>title</th>\n",
       "      <th>popularity</th>\n",
       "      <th>original_language</th>\n",
       "      <th>original_title</th>\n",
       "      <th>adult</th>\n",
       "      <th>release_date</th>\n",
       "      <th>genre</th>\n",
       "    </tr>\n",
       "  </thead>\n",
       "  <tbody>\n",
       "    <tr>\n",
       "      <th>0</th>\n",
       "      <td>1070</td>\n",
       "      <td>337167</td>\n",
       "      <td>False</td>\n",
       "      <td>6.2</td>\n",
       "      <td>Fifty Shades Freed</td>\n",
       "      <td>600.256939</td>\n",
       "      <td>en</td>\n",
       "      <td>Fifty Shades Freed</td>\n",
       "      <td>False</td>\n",
       "      <td>2018-02-07</td>\n",
       "      <td>['Drama', 'Romance']</td>\n",
       "    </tr>\n",
       "    <tr>\n",
       "      <th>1</th>\n",
       "      <td>6675</td>\n",
       "      <td>269149</td>\n",
       "      <td>False</td>\n",
       "      <td>7.7</td>\n",
       "      <td>Zootopia</td>\n",
       "      <td>417.963560</td>\n",
       "      <td>en</td>\n",
       "      <td>Zootopia</td>\n",
       "      <td>False</td>\n",
       "      <td>2016-02-11</td>\n",
       "      <td>['Adventure', 'Animation', 'Comedy', 'Family']</td>\n",
       "    </tr>\n",
       "    <tr>\n",
       "      <th>2</th>\n",
       "      <td>3439</td>\n",
       "      <td>284054</td>\n",
       "      <td>False</td>\n",
       "      <td>7.4</td>\n",
       "      <td>Black Panther</td>\n",
       "      <td>298.913231</td>\n",
       "      <td>en</td>\n",
       "      <td>Black Panther</td>\n",
       "      <td>False</td>\n",
       "      <td>2018-02-13</td>\n",
       "      <td>['Action', 'Adventure', 'Fantasy', 'Science Fi...</td>\n",
       "    </tr>\n",
       "    <tr>\n",
       "      <th>3</th>\n",
       "      <td>3328</td>\n",
       "      <td>354912</td>\n",
       "      <td>False</td>\n",
       "      <td>7.8</td>\n",
       "      <td>Coco</td>\n",
       "      <td>259.945509</td>\n",
       "      <td>en</td>\n",
       "      <td>Coco</td>\n",
       "      <td>False</td>\n",
       "      <td>2017-10-27</td>\n",
       "      <td>['Adventure', 'Animation', 'Comedy', 'Family']</td>\n",
       "    </tr>\n",
       "    <tr>\n",
       "      <th>4</th>\n",
       "      <td>506</td>\n",
       "      <td>338970</td>\n",
       "      <td>False</td>\n",
       "      <td>6.1</td>\n",
       "      <td>Tomb Raider</td>\n",
       "      <td>224.314953</td>\n",
       "      <td>en</td>\n",
       "      <td>Tomb Raider</td>\n",
       "      <td>False</td>\n",
       "      <td>2018-03-08</td>\n",
       "      <td>['Action', 'Adventure']</td>\n",
       "    </tr>\n",
       "  </tbody>\n",
       "</table>\n",
       "</div>"
      ],
      "text/plain": [
       "   vote_count      id  video  vote_average               title  popularity  \\\n",
       "0        1070  337167  False           6.2  Fifty Shades Freed  600.256939   \n",
       "1        6675  269149  False           7.7            Zootopia  417.963560   \n",
       "2        3439  284054  False           7.4       Black Panther  298.913231   \n",
       "3        3328  354912  False           7.8                Coco  259.945509   \n",
       "4         506  338970  False           6.1         Tomb Raider  224.314953   \n",
       "\n",
       "  original_language      original_title  adult release_date  \\\n",
       "0                en  Fifty Shades Freed  False   2018-02-07   \n",
       "1                en            Zootopia  False   2016-02-11   \n",
       "2                en       Black Panther  False   2018-02-13   \n",
       "3                en                Coco  False   2017-10-27   \n",
       "4                en         Tomb Raider  False   2018-03-08   \n",
       "\n",
       "                                               genre  \n",
       "0                               ['Drama', 'Romance']  \n",
       "1     ['Adventure', 'Animation', 'Comedy', 'Family']  \n",
       "2  ['Action', 'Adventure', 'Fantasy', 'Science Fi...  \n",
       "3     ['Adventure', 'Animation', 'Comedy', 'Family']  \n",
       "4                            ['Action', 'Adventure']  "
      ]
     },
     "execution_count": 14,
     "metadata": {},
     "output_type": "execute_result"
    }
   ],
   "source": [
    "dataset.head()"
   ]
  },
  {
   "cell_type": "markdown",
   "metadata": {},
   "source": [
    "<font color='red' style=\"font-style:italic\">Check for misisng data</font>"
   ]
  },
  {
   "cell_type": "code",
   "execution_count": 15,
   "metadata": {},
   "outputs": [
    {
     "data": {
      "text/plain": [
       "vote_count           0\n",
       "id                   0\n",
       "video                0\n",
       "vote_average         0\n",
       "title                0\n",
       "popularity           0\n",
       "original_language    0\n",
       "original_title       0\n",
       "adult                0\n",
       "release_date         0\n",
       "genre                0\n",
       "dtype: int64"
      ]
     },
     "execution_count": 15,
     "metadata": {},
     "output_type": "execute_result"
    }
   ],
   "source": [
    "dataset.isnull().sum()"
   ]
  },
  {
   "cell_type": "markdown",
   "metadata": {},
   "source": [
    "There is no null value present in the dataset "
   ]
  },
  {
   "cell_type": "markdown",
   "metadata": {},
   "source": [
    "<font color='red' style=\"font-style:italic\">Check for distinct counts wrt some fields</font>"
   ]
  },
  {
   "cell_type": "code",
   "execution_count": 16,
   "metadata": {},
   "outputs": [
    {
     "data": {
      "text/plain": [
       "video\n",
       "False    788\n",
       "Name: id, dtype: int64"
      ]
     },
     "execution_count": 16,
     "metadata": {},
     "output_type": "execute_result"
    }
   ],
   "source": [
    "#check distinct values for 'video' with counts\n",
    "dataset.groupby('video')['id'].nunique()"
   ]
  },
  {
   "cell_type": "markdown",
   "metadata": {},
   "source": [
    "As we can see all the rows have same values for 'video', this column is not giving any relevant information, we can drop this column"
   ]
  },
  {
   "cell_type": "code",
   "execution_count": 17,
   "metadata": {
    "collapsed": true
   },
   "outputs": [],
   "source": [
    "dataset = dataset.drop(['video'],axis=1)"
   ]
  },
  {
   "cell_type": "code",
   "execution_count": 18,
   "metadata": {
    "scrolled": true
   },
   "outputs": [
    {
     "data": {
      "text/plain": [
       "original_language\n",
       "de      4\n",
       "en    765\n",
       "es      1\n",
       "fr      3\n",
       "it      7\n",
       "ko      1\n",
       "no      1\n",
       "pt      1\n",
       "ru      1\n",
       "sv      1\n",
       "ta      2\n",
       "tl      1\n",
       "Name: id, dtype: int64"
      ]
     },
     "execution_count": 18,
     "metadata": {},
     "output_type": "execute_result"
    }
   ],
   "source": [
    "#check distinct values for 'original_language' with counts\n",
    "dataset.groupby('original_language')['id'].nunique()"
   ]
  },
  {
   "cell_type": "markdown",
   "metadata": {},
   "source": [
    "Most of the movies are in 'en', lets check the proportion of english movies"
   ]
  },
  {
   "cell_type": "code",
   "execution_count": 19,
   "metadata": {},
   "outputs": [
    {
     "data": {
      "text/plain": [
       "0.9708121827411168"
      ]
     },
     "execution_count": 19,
     "metadata": {},
     "output_type": "execute_result"
    }
   ],
   "source": [
    "len(dataset[dataset['original_language'] == 'en']) / len(dataset)"
   ]
  },
  {
   "cell_type": "markdown",
   "metadata": {},
   "source": [
    "As 97% movies in the dataset are of English language, we will restrict our analysis to only English movies. Thus, droping other movies "
   ]
  },
  {
   "cell_type": "code",
   "execution_count": 20,
   "metadata": {
    "collapsed": true
   },
   "outputs": [],
   "source": [
    "dataset = dataset[dataset['original_language']  == 'en']"
   ]
  },
  {
   "cell_type": "code",
   "execution_count": 21,
   "metadata": {},
   "outputs": [
    {
     "data": {
      "text/plain": [
       "adult\n",
       "False    765\n",
       "Name: id, dtype: int64"
      ]
     },
     "execution_count": 21,
     "metadata": {},
     "output_type": "execute_result"
    }
   ],
   "source": [
    "#check distinct values for adult columns with counts\n",
    "dataset.groupby('adult')['id'].nunique()"
   ]
  },
  {
   "cell_type": "markdown",
   "metadata": {},
   "source": [
    "All rows have same value for 'adult', so we can drop it"
   ]
  },
  {
   "cell_type": "code",
   "execution_count": 22,
   "metadata": {
    "collapsed": true
   },
   "outputs": [],
   "source": [
    "dataset = dataset.drop(['adult'],axis=1)"
   ]
  },
  {
   "cell_type": "markdown",
   "metadata": {},
   "source": [
    "'title' and 'original_title' look similar. Check percentage of dissimilarities between 'title' and 'original_title' "
   ]
  },
  {
   "cell_type": "code",
   "execution_count": 23,
   "metadata": {},
   "outputs": [
    {
     "data": {
      "text/plain": [
       "0.006535947712418301"
      ]
     },
     "execution_count": 23,
     "metadata": {},
     "output_type": "execute_result"
    }
   ],
   "source": [
    "disimilarities = []\n",
    "for index, movie in dataset.iterrows():\n",
    "    if movie['title'] != movie['original_title']:\n",
    "        disimilarities.append((movie['title'], movie['original_title']))\n",
    "#ratio of disimilarities between title and original_title\n",
    "len(disimilarities)/len(dataset)"
   ]
  },
  {
   "cell_type": "markdown",
   "metadata": {},
   "source": [
    "As we can see in very small proprtion of data title and original title differ from each other. This is may be due to different language. However, as the percentage is only 2%, we can easily drop one column because both are highly correlated"
   ]
  },
  {
   "cell_type": "code",
   "execution_count": 24,
   "metadata": {
    "collapsed": true
   },
   "outputs": [],
   "source": [
    "dataset = dataset.drop(['original_title'],axis=1)"
   ]
  },
  {
   "cell_type": "code",
   "execution_count": 25,
   "metadata": {},
   "outputs": [
    {
     "data": {
      "text/html": [
       "<div>\n",
       "<style>\n",
       "    .dataframe thead tr:only-child th {\n",
       "        text-align: right;\n",
       "    }\n",
       "\n",
       "    .dataframe thead th {\n",
       "        text-align: left;\n",
       "    }\n",
       "\n",
       "    .dataframe tbody tr th {\n",
       "        vertical-align: top;\n",
       "    }\n",
       "</style>\n",
       "<table border=\"1\" class=\"dataframe\">\n",
       "  <thead>\n",
       "    <tr style=\"text-align: right;\">\n",
       "      <th></th>\n",
       "      <th>vote_count</th>\n",
       "      <th>id</th>\n",
       "      <th>vote_average</th>\n",
       "      <th>title</th>\n",
       "      <th>popularity</th>\n",
       "      <th>original_language</th>\n",
       "      <th>release_date</th>\n",
       "      <th>genre</th>\n",
       "    </tr>\n",
       "  </thead>\n",
       "  <tbody>\n",
       "    <tr>\n",
       "      <th>0</th>\n",
       "      <td>1070</td>\n",
       "      <td>337167</td>\n",
       "      <td>6.2</td>\n",
       "      <td>Fifty Shades Freed</td>\n",
       "      <td>600.256939</td>\n",
       "      <td>en</td>\n",
       "      <td>2018-02-07</td>\n",
       "      <td>['Drama', 'Romance']</td>\n",
       "    </tr>\n",
       "    <tr>\n",
       "      <th>1</th>\n",
       "      <td>6675</td>\n",
       "      <td>269149</td>\n",
       "      <td>7.7</td>\n",
       "      <td>Zootopia</td>\n",
       "      <td>417.963560</td>\n",
       "      <td>en</td>\n",
       "      <td>2016-02-11</td>\n",
       "      <td>['Adventure', 'Animation', 'Comedy', 'Family']</td>\n",
       "    </tr>\n",
       "    <tr>\n",
       "      <th>2</th>\n",
       "      <td>3439</td>\n",
       "      <td>284054</td>\n",
       "      <td>7.4</td>\n",
       "      <td>Black Panther</td>\n",
       "      <td>298.913231</td>\n",
       "      <td>en</td>\n",
       "      <td>2018-02-13</td>\n",
       "      <td>['Action', 'Adventure', 'Fantasy', 'Science Fi...</td>\n",
       "    </tr>\n",
       "    <tr>\n",
       "      <th>3</th>\n",
       "      <td>3328</td>\n",
       "      <td>354912</td>\n",
       "      <td>7.8</td>\n",
       "      <td>Coco</td>\n",
       "      <td>259.945509</td>\n",
       "      <td>en</td>\n",
       "      <td>2017-10-27</td>\n",
       "      <td>['Adventure', 'Animation', 'Comedy', 'Family']</td>\n",
       "    </tr>\n",
       "    <tr>\n",
       "      <th>4</th>\n",
       "      <td>506</td>\n",
       "      <td>338970</td>\n",
       "      <td>6.1</td>\n",
       "      <td>Tomb Raider</td>\n",
       "      <td>224.314953</td>\n",
       "      <td>en</td>\n",
       "      <td>2018-03-08</td>\n",
       "      <td>['Action', 'Adventure']</td>\n",
       "    </tr>\n",
       "  </tbody>\n",
       "</table>\n",
       "</div>"
      ],
      "text/plain": [
       "   vote_count      id  vote_average               title  popularity  \\\n",
       "0        1070  337167           6.2  Fifty Shades Freed  600.256939   \n",
       "1        6675  269149           7.7            Zootopia  417.963560   \n",
       "2        3439  284054           7.4       Black Panther  298.913231   \n",
       "3        3328  354912           7.8                Coco  259.945509   \n",
       "4         506  338970           6.1         Tomb Raider  224.314953   \n",
       "\n",
       "  original_language release_date  \\\n",
       "0                en   2018-02-07   \n",
       "1                en   2016-02-11   \n",
       "2                en   2018-02-13   \n",
       "3                en   2017-10-27   \n",
       "4                en   2018-03-08   \n",
       "\n",
       "                                               genre  \n",
       "0                               ['Drama', 'Romance']  \n",
       "1     ['Adventure', 'Animation', 'Comedy', 'Family']  \n",
       "2  ['Action', 'Adventure', 'Fantasy', 'Science Fi...  \n",
       "3     ['Adventure', 'Animation', 'Comedy', 'Family']  \n",
       "4                            ['Action', 'Adventure']  "
      ]
     },
     "execution_count": 25,
     "metadata": {},
     "output_type": "execute_result"
    }
   ],
   "source": [
    "dataset.head()"
   ]
  },
  {
   "cell_type": "markdown",
   "metadata": {},
   "source": [
    "Round off popularity to 2 decimal place"
   ]
  },
  {
   "cell_type": "code",
   "execution_count": 26,
   "metadata": {
    "collapsed": true
   },
   "outputs": [],
   "source": [
    "dataset['popularity'] = round(dataset['popularity'],2)"
   ]
  },
  {
   "cell_type": "markdown",
   "metadata": {},
   "source": [
    "change release date column to release year. All our analysis will be based on the year. In this analysis particular date in irrelevant. Thus extracting year ofrom dates :"
   ]
  },
  {
   "cell_type": "code",
   "execution_count": 27,
   "metadata": {
    "collapsed": true
   },
   "outputs": [],
   "source": [
    "dataset['release_year'] = pd.to_datetime(dataset['release_date']).dt.year #https://pandas.pydata.org/pandas-docs/stable/generated/pandas.to_datetime.html"
   ]
  },
  {
   "cell_type": "markdown",
   "metadata": {},
   "source": [
    "drop release_date"
   ]
  },
  {
   "cell_type": "code",
   "execution_count": 28,
   "metadata": {
    "collapsed": true
   },
   "outputs": [],
   "source": [
    "dataset = dataset.drop(['release_date'],axis=1)"
   ]
  },
  {
   "cell_type": "markdown",
   "metadata": {},
   "source": [
    "As 2018 is not yet completed, we are going to take data till 2017"
   ]
  },
  {
   "cell_type": "code",
   "execution_count": 29,
   "metadata": {
    "collapsed": true
   },
   "outputs": [],
   "source": [
    "rows_drop = dataset[dataset['release_year'] > 2017]\n",
    "dataset = dataset.drop(rows_drop.index, axis=0)"
   ]
  },
  {
   "cell_type": "markdown",
   "metadata": {},
   "source": [
    "<font color='red' style=\"font-style:italic\">Final cleaned dataset for analysis</font>"
   ]
  },
  {
   "cell_type": "code",
   "execution_count": 30,
   "metadata": {
    "scrolled": true
   },
   "outputs": [
    {
     "data": {
      "text/html": [
       "<div>\n",
       "<style>\n",
       "    .dataframe thead tr:only-child th {\n",
       "        text-align: right;\n",
       "    }\n",
       "\n",
       "    .dataframe thead th {\n",
       "        text-align: left;\n",
       "    }\n",
       "\n",
       "    .dataframe tbody tr th {\n",
       "        vertical-align: top;\n",
       "    }\n",
       "</style>\n",
       "<table border=\"1\" class=\"dataframe\">\n",
       "  <thead>\n",
       "    <tr style=\"text-align: right;\">\n",
       "      <th></th>\n",
       "      <th>vote_count</th>\n",
       "      <th>id</th>\n",
       "      <th>vote_average</th>\n",
       "      <th>title</th>\n",
       "      <th>popularity</th>\n",
       "      <th>original_language</th>\n",
       "      <th>genre</th>\n",
       "      <th>release_year</th>\n",
       "    </tr>\n",
       "  </thead>\n",
       "  <tbody>\n",
       "    <tr>\n",
       "      <th>1</th>\n",
       "      <td>6675</td>\n",
       "      <td>269149</td>\n",
       "      <td>7.7</td>\n",
       "      <td>Zootopia</td>\n",
       "      <td>417.96</td>\n",
       "      <td>en</td>\n",
       "      <td>['Adventure', 'Animation', 'Comedy', 'Family']</td>\n",
       "      <td>2016</td>\n",
       "    </tr>\n",
       "    <tr>\n",
       "      <th>3</th>\n",
       "      <td>3328</td>\n",
       "      <td>354912</td>\n",
       "      <td>7.8</td>\n",
       "      <td>Coco</td>\n",
       "      <td>259.95</td>\n",
       "      <td>en</td>\n",
       "      <td>['Adventure', 'Animation', 'Comedy', 'Family']</td>\n",
       "      <td>2017</td>\n",
       "    </tr>\n",
       "    <tr>\n",
       "      <th>6</th>\n",
       "      <td>4504</td>\n",
       "      <td>181808</td>\n",
       "      <td>7.2</td>\n",
       "      <td>Star Wars: The Last Jedi</td>\n",
       "      <td>194.03</td>\n",
       "      <td>en</td>\n",
       "      <td>['Action', 'Adventure', 'Fantasy', 'Science Fi...</td>\n",
       "      <td>2017</td>\n",
       "    </tr>\n",
       "    <tr>\n",
       "      <th>7</th>\n",
       "      <td>5140</td>\n",
       "      <td>284053</td>\n",
       "      <td>7.4</td>\n",
       "      <td>Thor: Ragnarok</td>\n",
       "      <td>189.63</td>\n",
       "      <td>en</td>\n",
       "      <td>['Action', 'Adventure', 'Fantasy']</td>\n",
       "      <td>2017</td>\n",
       "    </tr>\n",
       "    <tr>\n",
       "      <th>8</th>\n",
       "      <td>2852</td>\n",
       "      <td>399055</td>\n",
       "      <td>7.3</td>\n",
       "      <td>The Shape of Water</td>\n",
       "      <td>173.96</td>\n",
       "      <td>en</td>\n",
       "      <td>['Drama', 'Fantasy', 'Romance']</td>\n",
       "      <td>2017</td>\n",
       "    </tr>\n",
       "  </tbody>\n",
       "</table>\n",
       "</div>"
      ],
      "text/plain": [
       "   vote_count      id  vote_average                     title  popularity  \\\n",
       "1        6675  269149           7.7                  Zootopia      417.96   \n",
       "3        3328  354912           7.8                      Coco      259.95   \n",
       "6        4504  181808           7.2  Star Wars: The Last Jedi      194.03   \n",
       "7        5140  284053           7.4            Thor: Ragnarok      189.63   \n",
       "8        2852  399055           7.3        The Shape of Water      173.96   \n",
       "\n",
       "  original_language                                              genre  \\\n",
       "1                en     ['Adventure', 'Animation', 'Comedy', 'Family']   \n",
       "3                en     ['Adventure', 'Animation', 'Comedy', 'Family']   \n",
       "6                en  ['Action', 'Adventure', 'Fantasy', 'Science Fi...   \n",
       "7                en                 ['Action', 'Adventure', 'Fantasy']   \n",
       "8                en                    ['Drama', 'Fantasy', 'Romance']   \n",
       "\n",
       "   release_year  \n",
       "1          2016  \n",
       "3          2017  \n",
       "6          2017  \n",
       "7          2017  \n",
       "8          2017  "
      ]
     },
     "execution_count": 30,
     "metadata": {},
     "output_type": "execute_result"
    }
   ],
   "source": [
    "dataset.head()"
   ]
  },
  {
   "cell_type": "markdown",
   "metadata": {},
   "source": [
    "## Task 5: Analyse and summarise the cleaned dataset\n"
   ]
  },
  {
   "cell_type": "markdown",
   "metadata": {},
   "source": [
    "<font color='red' style=\"font-style:italic\">Number of movies released year wise</font>"
   ]
  },
  {
   "cell_type": "markdown",
   "metadata": {},
   "source": [
    "Lets see how the number of movies released has changed over the years."
   ]
  },
  {
   "cell_type": "code",
   "execution_count": 31,
   "metadata": {},
   "outputs": [
    {
     "data": {
      "text/plain": [
       "release_year\n",
       "2013    43\n",
       "2014    47\n",
       "2015    44\n",
       "2016    28\n",
       "2017    77\n",
       "Name: id, dtype: int64"
      ]
     },
     "execution_count": 31,
     "metadata": {},
     "output_type": "execute_result"
    }
   ],
   "source": [
    "# group by the data by release year and get the count of ids\n",
    "movie_per_year = dataset.groupby(['release_year'])[\"id\"].count()\n",
    "movie_per_year.tail(5)"
   ]
  },
  {
   "cell_type": "code",
   "execution_count": 32,
   "metadata": {},
   "outputs": [
    {
     "data": {
      "image/png": "[encoded data removed]",
      "text/plain": [
       "<matplotlib.figure.Figure at 0x1d91c101128>"
      ]
     },
     "metadata": {},
     "output_type": "display_data"
    }
   ],
   "source": [
    "#plot the movie_per_year\n",
    "plt.figure()\n",
    "movie_per_year.plot()\n",
    "plt.title('Number of movies per year ( 1900 - 2017 )')\n",
    "plt.xlabel('Release year')\n",
    "plt.ylabel('Number of movies')\n",
    "plt.show()"
   ]
  },
  {
   "cell_type": "raw",
   "metadata": {},
   "source": [
    "As shown in the above graph, the number of movies released per year has an increasing trend. Till 1970, there are very few movies relaesed per year. Then, from around 1975 the number of movies per year has increased exponentially. We can see a spike in 2017. In 2017 there are around 75 movies released. From the above graph, we can infer the movie industry is showing good progress almost in every year."
   ]
  },
  {
   "cell_type": "markdown",
   "metadata": {},
   "source": [
    "lets see genre wise how the plot look like."
   ]
  },
  {
   "cell_type": "markdown",
   "metadata": {},
   "source": [
    "get the count of movies groupby genre and release_year"
   ]
  },
  {
   "cell_type": "code",
   "execution_count": 33,
   "metadata": {
    "scrolled": true
   },
   "outputs": [
    {
     "data": {
      "text/html": [
       "<div>\n",
       "<style>\n",
       "    .dataframe thead tr:only-child th {\n",
       "        text-align: right;\n",
       "    }\n",
       "\n",
       "    .dataframe thead th {\n",
       "        text-align: left;\n",
       "    }\n",
       "\n",
       "    .dataframe tbody tr th {\n",
       "        vertical-align: top;\n",
       "    }\n",
       "</style>\n",
       "<table border=\"1\" class=\"dataframe\">\n",
       "  <thead>\n",
       "    <tr style=\"text-align: right;\">\n",
       "      <th></th>\n",
       "      <th>release_year</th>\n",
       "      <th>genre</th>\n",
       "      <th>number_of_movies</th>\n",
       "    </tr>\n",
       "  </thead>\n",
       "  <tbody>\n",
       "    <tr>\n",
       "      <th>532</th>\n",
       "      <td>2017</td>\n",
       "      <td>Fantasy</td>\n",
       "      <td>11</td>\n",
       "    </tr>\n",
       "    <tr>\n",
       "      <th>533</th>\n",
       "      <td>2017</td>\n",
       "      <td>History</td>\n",
       "      <td>5</td>\n",
       "    </tr>\n",
       "    <tr>\n",
       "      <th>534</th>\n",
       "      <td>2017</td>\n",
       "      <td>Horror</td>\n",
       "      <td>12</td>\n",
       "    </tr>\n",
       "    <tr>\n",
       "      <th>535</th>\n",
       "      <td>2017</td>\n",
       "      <td>Music</td>\n",
       "      <td>3</td>\n",
       "    </tr>\n",
       "    <tr>\n",
       "      <th>536</th>\n",
       "      <td>2017</td>\n",
       "      <td>Mystery</td>\n",
       "      <td>11</td>\n",
       "    </tr>\n",
       "    <tr>\n",
       "      <th>537</th>\n",
       "      <td>2017</td>\n",
       "      <td>Romance</td>\n",
       "      <td>5</td>\n",
       "    </tr>\n",
       "    <tr>\n",
       "      <th>538</th>\n",
       "      <td>2017</td>\n",
       "      <td>Science Fiction</td>\n",
       "      <td>20</td>\n",
       "    </tr>\n",
       "    <tr>\n",
       "      <th>539</th>\n",
       "      <td>2017</td>\n",
       "      <td>Thriller</td>\n",
       "      <td>27</td>\n",
       "    </tr>\n",
       "    <tr>\n",
       "      <th>540</th>\n",
       "      <td>2017</td>\n",
       "      <td>War</td>\n",
       "      <td>3</td>\n",
       "    </tr>\n",
       "    <tr>\n",
       "      <th>541</th>\n",
       "      <td>2017</td>\n",
       "      <td>Western</td>\n",
       "      <td>1</td>\n",
       "    </tr>\n",
       "  </tbody>\n",
       "</table>\n",
       "</div>"
      ],
      "text/plain": [
       "     release_year            genre  number_of_movies\n",
       "532          2017          Fantasy                11\n",
       "533          2017          History                 5\n",
       "534          2017           Horror                12\n",
       "535          2017            Music                 3\n",
       "536          2017          Mystery                11\n",
       "537          2017          Romance                 5\n",
       "538          2017  Science Fiction                20\n",
       "539          2017         Thriller                27\n",
       "540          2017              War                 3\n",
       "541          2017          Western                 1"
      ]
     },
     "execution_count": 33,
     "metadata": {},
     "output_type": "execute_result"
    }
   ],
   "source": [
    "#https://stackoverflow.com/questions/49220479/how-to-group-by-according-to-the-values-of-a-list-present-in-a-column-in-datafra?noredirect=1#comment85463311_49220479\n",
    "#https://stackoverflow.com/questions/23119472/in-pandas-python-reading-array-stored-as-string\n",
    "#as genre is a list of string wee need to flatten the list and then use group by. \n",
    "df = pd.DataFrame({\n",
    "      'genre' : list(\n",
    "           chain.from_iterable(dataset['genre'].apply(literal_eval).tolist())\n",
    "       ), \n",
    "       'release_year' : dataset.release_year.repeat(dataset['genre'].apply(literal_eval).str.len())\n",
    "})\n",
    "movie_group = df.groupby(\n",
    "     ['release_year','genre'], sort=True \n",
    " ).size().reset_index(name='number_of_movies')\n",
    "#display movie_group\n",
    "movie_group.tail(10)"
   ]
  },
  {
   "cell_type": "markdown",
   "metadata": {},
   "source": [
    "<font color='red' style=\"font-style:italic\">Number of movies per genre from </font>"
   ]
  },
  {
   "cell_type": "code",
   "execution_count": 34,
   "metadata": {},
   "outputs": [
    {
     "data": {
      "image/png": "[encoded data removed]",
      "text/plain": [
       "<matplotlib.figure.Figure at 0x1d91c3aaf98>"
      ]
     },
     "metadata": {},
     "output_type": "display_data"
    }
   ],
   "source": [
    "#group by genres\n",
    "group_by_genres = movie_group.groupby(['genre'],as_index=False).sum().sort_values(by=['number_of_movies'])\n",
    "#plot group_by_genres\n",
    "group_by_genres.plot(x='genre',y='number_of_movies',kind='bar')\n",
    "plt.title('Number of movies per genre')\n",
    "plt.ylabel('Number of movies')\n",
    "plt.xlabel('Genres')\n",
    "plt.show()"
   ]
  },
  {
   "cell_type": "raw",
   "metadata": {},
   "source": [
    "As shown in the above graph, the most number of movies released till date is on 'Action'. Action and Drama were two most common genres. There are very few movies released in 'Western', 'Music' etc.\n",
    "\n",
    "top 5 genres with respect to the number of movies ( from the graph)\n",
    "['Action', 'Drama', 'Adventure', 'Thriller', 'Comedy'] "
   ]
  },
  {
   "cell_type": "markdown",
   "metadata": {},
   "source": [
    "We will continuw our analysis with the top five genres"
   ]
  },
  {
   "cell_type": "code",
   "execution_count": 35,
   "metadata": {
    "collapsed": true
   },
   "outputs": [],
   "source": [
    "top_genres = ['Action', 'Drama', 'Adventure', 'Thriller', 'Comedy'] "
   ]
  },
  {
   "cell_type": "markdown",
   "metadata": {},
   "source": [
    "<font color='red' style=\"font-style:italic\">proportion of movies of top 5 genres in last 10 years</font>"
   ]
  },
  {
   "cell_type": "raw",
   "metadata": {},
   "source": [
    "Lets see how the proportion of movies of top 5 genres in last 10 years"
   ]
  },
  {
   "cell_type": "code",
   "execution_count": 36,
   "metadata": {
    "scrolled": true
   },
   "outputs": [
    {
     "data": {
      "image/png": "[encoded data removed]",
      "text/plain": [
       "<matplotlib.figure.Figure at 0x1d91d54f7b8>"
      ]
     },
     "metadata": {},
     "output_type": "display_data"
    }
   ],
   "source": [
    "#get the movies of top 5 genres in last 10 years \n",
    "recent_movie_groups = movie_group[(movie_group['release_year'] > 2007) & (movie_group['genre'].isin(top_genres))]\n",
    "# get the recent movies of top five genres group by genres\n",
    "recent_movie_groups_groupby_genres = recent_movie_groups.groupby(['genre'])['number_of_movies'].sum().reset_index()\n",
    "# plot pie chart\n",
    "plt.pie(recent_movie_groups_groupby_genres['number_of_movies'], labels=recent_movie_groups_groupby_genres['genre'],startangle=90)\n",
    "# Set aspect ratio to be equal so that pie is drawn as a circle.\n",
    "plt.axis('equal')\n",
    "plt.show()\n"
   ]
  },
  {
   "cell_type": "raw",
   "metadata": {},
   "source": [
    "From the above visualization, in last years also 'Action' is likely to be the most used genres."
   ]
  },
  {
   "cell_type": "markdown",
   "metadata": {},
   "source": [
    "<font color='red' style=\"font-style:italic\">Number of movies per genre per year in last 10 years</font>"
   ]
  },
  {
   "cell_type": "code",
   "execution_count": 37,
   "metadata": {},
   "outputs": [
    {
     "data": {
      "image/png": "[encoded data removed]",
      "text/plain": [
       "<matplotlib.figure.Figure at 0x1d91c188d68>"
      ]
     },
     "metadata": {},
     "output_type": "display_data"
    }
   ],
   "source": [
    "recent_movie_groups.pivot_table(index='release_year', columns='genre', values='number_of_movies', \n",
    "                                aggfunc='sum', fill_value=0).plot.bar(stacked=True)\n",
    "plt.title('Number of movies per top 5 genres genre per year in last 10 years')\n",
    "plt.xlabel('years')\n",
    "plt.ylabel('number_of_movies')\n",
    "plt.show()"
   ]
  },
  {
   "cell_type": "raw",
   "metadata": {},
   "source": [
    "The above graph shows the movies per genre per year. the number of movies are not the count of unique movies because a movie has a list of genres. However, from the graph we can infer that the number of movies with genre Thriller is the least among the top 5 genres and the most number of movies have genre as action. "
   ]
  },
  {
   "cell_type": "markdown",
   "metadata": {},
   "source": [
    "<font color='red' style=\"font-style:italic\">Top 5 trending movies as of the day, the data is collected </font>"
   ]
  },
  {
   "cell_type": "markdown",
   "metadata": {},
   "source": [
    "According to TMDB the popularity mesures depends upon <br>\n",
    "<ul>\n",
    "    \n",
    "        <li>Number of votes for the day </li>\n",
    "        <li>Number of views for the day </li>\n",
    "        <li>Number of users who marked it as a \"favourite\" for the day </li>\n",
    "        <li>Number of users who added it to their \"watchlist\" for the day </li>\n",
    "        <li>Release date </li>\n",
    "        <li>Number of total votes </li>\n",
    "        <li>Previous days score </li>\n",
    "    \n",
    "</ul>"
   ]
  },
  {
   "cell_type": "code",
   "execution_count": 38,
   "metadata": {},
   "outputs": [
    {
     "data": {
      "text/html": [
       "<div>\n",
       "<style>\n",
       "    .dataframe thead tr:only-child th {\n",
       "        text-align: right;\n",
       "    }\n",
       "\n",
       "    .dataframe thead th {\n",
       "        text-align: left;\n",
       "    }\n",
       "\n",
       "    .dataframe tbody tr th {\n",
       "        vertical-align: top;\n",
       "    }\n",
       "</style>\n",
       "<table border=\"1\" class=\"dataframe\">\n",
       "  <thead>\n",
       "    <tr style=\"text-align: right;\">\n",
       "      <th></th>\n",
       "      <th>vote_count</th>\n",
       "      <th>id</th>\n",
       "      <th>vote_average</th>\n",
       "      <th>title</th>\n",
       "      <th>popularity</th>\n",
       "      <th>original_language</th>\n",
       "      <th>genre</th>\n",
       "      <th>release_year</th>\n",
       "    </tr>\n",
       "  </thead>\n",
       "  <tbody>\n",
       "    <tr>\n",
       "      <th>1</th>\n",
       "      <td>6675</td>\n",
       "      <td>269149</td>\n",
       "      <td>7.7</td>\n",
       "      <td>Zootopia</td>\n",
       "      <td>417.96</td>\n",
       "      <td>en</td>\n",
       "      <td>['Adventure', 'Animation', 'Comedy', 'Family']</td>\n",
       "      <td>2016</td>\n",
       "    </tr>\n",
       "    <tr>\n",
       "      <th>3</th>\n",
       "      <td>3328</td>\n",
       "      <td>354912</td>\n",
       "      <td>7.8</td>\n",
       "      <td>Coco</td>\n",
       "      <td>259.95</td>\n",
       "      <td>en</td>\n",
       "      <td>['Adventure', 'Animation', 'Comedy', 'Family']</td>\n",
       "      <td>2017</td>\n",
       "    </tr>\n",
       "    <tr>\n",
       "      <th>6</th>\n",
       "      <td>4504</td>\n",
       "      <td>181808</td>\n",
       "      <td>7.2</td>\n",
       "      <td>Star Wars: The Last Jedi</td>\n",
       "      <td>194.03</td>\n",
       "      <td>en</td>\n",
       "      <td>['Action', 'Adventure', 'Fantasy', 'Science Fi...</td>\n",
       "      <td>2017</td>\n",
       "    </tr>\n",
       "    <tr>\n",
       "      <th>7</th>\n",
       "      <td>5140</td>\n",
       "      <td>284053</td>\n",
       "      <td>7.4</td>\n",
       "      <td>Thor: Ragnarok</td>\n",
       "      <td>189.63</td>\n",
       "      <td>en</td>\n",
       "      <td>['Action', 'Adventure', 'Fantasy']</td>\n",
       "      <td>2017</td>\n",
       "    </tr>\n",
       "    <tr>\n",
       "      <th>8</th>\n",
       "      <td>2852</td>\n",
       "      <td>399055</td>\n",
       "      <td>7.3</td>\n",
       "      <td>The Shape of Water</td>\n",
       "      <td>173.96</td>\n",
       "      <td>en</td>\n",
       "      <td>['Drama', 'Fantasy', 'Romance']</td>\n",
       "      <td>2017</td>\n",
       "    </tr>\n",
       "  </tbody>\n",
       "</table>\n",
       "</div>"
      ],
      "text/plain": [
       "   vote_count      id  vote_average                     title  popularity  \\\n",
       "1        6675  269149           7.7                  Zootopia      417.96   \n",
       "3        3328  354912           7.8                      Coco      259.95   \n",
       "6        4504  181808           7.2  Star Wars: The Last Jedi      194.03   \n",
       "7        5140  284053           7.4            Thor: Ragnarok      189.63   \n",
       "8        2852  399055           7.3        The Shape of Water      173.96   \n",
       "\n",
       "  original_language                                              genre  \\\n",
       "1                en     ['Adventure', 'Animation', 'Comedy', 'Family']   \n",
       "3                en     ['Adventure', 'Animation', 'Comedy', 'Family']   \n",
       "6                en  ['Action', 'Adventure', 'Fantasy', 'Science Fi...   \n",
       "7                en                 ['Action', 'Adventure', 'Fantasy']   \n",
       "8                en                    ['Drama', 'Fantasy', 'Romance']   \n",
       "\n",
       "   release_year  \n",
       "1          2016  \n",
       "3          2017  \n",
       "6          2017  \n",
       "7          2017  \n",
       "8          2017  "
      ]
     },
     "execution_count": 38,
     "metadata": {},
     "output_type": "execute_result"
    }
   ],
   "source": [
    "dataset.sort_values(by='popularity',ascending = False).head(5)"
   ]
  },
  {
   "cell_type": "raw",
   "metadata": {},
   "source": [
    "The table contains the top 5 most popular movie as of the day, the data is collected. As these movies are recently released and highly rated, these 5 are the top most popular movies. "
   ]
  },
  {
   "cell_type": "markdown",
   "metadata": {},
   "source": [
    "<font color='red' style=\"font-style:italic\">Top 10 movies according to the rating (avg vote)</font>"
   ]
  },
  {
   "cell_type": "markdown",
   "metadata": {},
   "source": [
    "we will consider movies with number of vote counts  more than 1000 "
   ]
  },
  {
   "cell_type": "code",
   "execution_count": 39,
   "metadata": {
    "scrolled": true
   },
   "outputs": [
    {
     "data": {
      "text/html": [
       "<div>\n",
       "<style>\n",
       "    .dataframe thead tr:only-child th {\n",
       "        text-align: right;\n",
       "    }\n",
       "\n",
       "    .dataframe thead th {\n",
       "        text-align: left;\n",
       "    }\n",
       "\n",
       "    .dataframe tbody tr th {\n",
       "        vertical-align: top;\n",
       "    }\n",
       "</style>\n",
       "<table border=\"1\" class=\"dataframe\">\n",
       "  <thead>\n",
       "    <tr style=\"text-align: right;\">\n",
       "      <th></th>\n",
       "      <th>vote_count</th>\n",
       "      <th>id</th>\n",
       "      <th>vote_average</th>\n",
       "      <th>title</th>\n",
       "      <th>popularity</th>\n",
       "      <th>original_language</th>\n",
       "      <th>genre</th>\n",
       "      <th>release_year</th>\n",
       "    </tr>\n",
       "  </thead>\n",
       "  <tbody>\n",
       "    <tr>\n",
       "      <th>81</th>\n",
       "      <td>7331</td>\n",
       "      <td>238</td>\n",
       "      <td>8.5</td>\n",
       "      <td>The Godfather</td>\n",
       "      <td>45.14</td>\n",
       "      <td>en</td>\n",
       "      <td>['Crime', 'Drama']</td>\n",
       "      <td>1972</td>\n",
       "    </tr>\n",
       "    <tr>\n",
       "      <th>274</th>\n",
       "      <td>9773</td>\n",
       "      <td>278</td>\n",
       "      <td>8.5</td>\n",
       "      <td>The Shawshank Redemption</td>\n",
       "      <td>29.57</td>\n",
       "      <td>en</td>\n",
       "      <td>['Crime', 'Drama']</td>\n",
       "      <td>1994</td>\n",
       "    </tr>\n",
       "    <tr>\n",
       "      <th>484</th>\n",
       "      <td>5489</td>\n",
       "      <td>424</td>\n",
       "      <td>8.4</td>\n",
       "      <td>Schindler's List</td>\n",
       "      <td>24.61</td>\n",
       "      <td>en</td>\n",
       "      <td>['Drama', 'History', 'War']</td>\n",
       "      <td>1993</td>\n",
       "    </tr>\n",
       "    <tr>\n",
       "      <th>151</th>\n",
       "      <td>4249</td>\n",
       "      <td>240</td>\n",
       "      <td>8.4</td>\n",
       "      <td>The Godfather: Part II</td>\n",
       "      <td>36.09</td>\n",
       "      <td>en</td>\n",
       "      <td>['Crime', 'Drama']</td>\n",
       "      <td>1974</td>\n",
       "    </tr>\n",
       "    <tr>\n",
       "      <th>614</th>\n",
       "      <td>1491</td>\n",
       "      <td>311</td>\n",
       "      <td>8.3</td>\n",
       "      <td>Once Upon a Time in America</td>\n",
       "      <td>22.11</td>\n",
       "      <td>en</td>\n",
       "      <td>['Crime', 'Drama']</td>\n",
       "      <td>1984</td>\n",
       "    </tr>\n",
       "    <tr>\n",
       "      <th>365</th>\n",
       "      <td>3161</td>\n",
       "      <td>539</td>\n",
       "      <td>8.3</td>\n",
       "      <td>Psycho</td>\n",
       "      <td>27.10</td>\n",
       "      <td>en</td>\n",
       "      <td>['Drama', 'Horror', 'Thriller']</td>\n",
       "      <td>1960</td>\n",
       "    </tr>\n",
       "    <tr>\n",
       "      <th>426</th>\n",
       "      <td>2579</td>\n",
       "      <td>389</td>\n",
       "      <td>8.3</td>\n",
       "      <td>12 Angry Men</td>\n",
       "      <td>25.84</td>\n",
       "      <td>en</td>\n",
       "      <td>['Drama']</td>\n",
       "      <td>1957</td>\n",
       "    </tr>\n",
       "    <tr>\n",
       "      <th>124</th>\n",
       "      <td>11878</td>\n",
       "      <td>550</td>\n",
       "      <td>8.3</td>\n",
       "      <td>Fight Club</td>\n",
       "      <td>38.64</td>\n",
       "      <td>en</td>\n",
       "      <td>['Drama']</td>\n",
       "      <td>1999</td>\n",
       "    </tr>\n",
       "    <tr>\n",
       "      <th>281</th>\n",
       "      <td>3803</td>\n",
       "      <td>510</td>\n",
       "      <td>8.3</td>\n",
       "      <td>One Flew Over the Cuckoo's Nest</td>\n",
       "      <td>29.42</td>\n",
       "      <td>en</td>\n",
       "      <td>['Drama']</td>\n",
       "      <td>1975</td>\n",
       "    </tr>\n",
       "    <tr>\n",
       "      <th>200</th>\n",
       "      <td>5544</td>\n",
       "      <td>244786</td>\n",
       "      <td>8.3</td>\n",
       "      <td>Whiplash</td>\n",
       "      <td>32.78</td>\n",
       "      <td>en</td>\n",
       "      <td>['Drama']</td>\n",
       "      <td>2014</td>\n",
       "    </tr>\n",
       "  </tbody>\n",
       "</table>\n",
       "</div>"
      ],
      "text/plain": [
       "     vote_count      id  vote_average                            title  \\\n",
       "81         7331     238           8.5                    The Godfather   \n",
       "274        9773     278           8.5         The Shawshank Redemption   \n",
       "484        5489     424           8.4                 Schindler's List   \n",
       "151        4249     240           8.4           The Godfather: Part II   \n",
       "614        1491     311           8.3      Once Upon a Time in America   \n",
       "365        3161     539           8.3                           Psycho   \n",
       "426        2579     389           8.3                     12 Angry Men   \n",
       "124       11878     550           8.3                       Fight Club   \n",
       "281        3803     510           8.3  One Flew Over the Cuckoo's Nest   \n",
       "200        5544  244786           8.3                         Whiplash   \n",
       "\n",
       "     popularity original_language                            genre  \\\n",
       "81        45.14                en               ['Crime', 'Drama']   \n",
       "274       29.57                en               ['Crime', 'Drama']   \n",
       "484       24.61                en      ['Drama', 'History', 'War']   \n",
       "151       36.09                en               ['Crime', 'Drama']   \n",
       "614       22.11                en               ['Crime', 'Drama']   \n",
       "365       27.10                en  ['Drama', 'Horror', 'Thriller']   \n",
       "426       25.84                en                        ['Drama']   \n",
       "124       38.64                en                        ['Drama']   \n",
       "281       29.42                en                        ['Drama']   \n",
       "200       32.78                en                        ['Drama']   \n",
       "\n",
       "     release_year  \n",
       "81           1972  \n",
       "274          1994  \n",
       "484          1993  \n",
       "151          1974  \n",
       "614          1984  \n",
       "365          1960  \n",
       "426          1957  \n",
       "124          1999  \n",
       "281          1975  \n",
       "200          2014  "
      ]
     },
     "execution_count": 39,
     "metadata": {},
     "output_type": "execute_result"
    }
   ],
   "source": [
    "dataset[dataset['vote_count'] > 1000].sort_values(by='vote_average',ascending=False ).head(10)"
   ]
  },
  {
   "cell_type": "raw",
   "metadata": {},
   "source": [
    "The table shows the top rated movies of all time. From the table we can see Drama movies are highly rated. From this table we can infer, though highest number of movies are of genre action, daram movies are the ones which were managed to get highest average voting. "
   ]
  },
  {
   "cell_type": "markdown",
   "metadata": {},
   "source": [
    "<font color='red' style=\"font-style:italic\">average voting per genre per year</font>"
   ]
  },
  {
   "cell_type": "markdown",
   "metadata": {},
   "source": [
    "lets see how the rating changes with the years for perticular genres"
   ]
  },
  {
   "cell_type": "code",
   "execution_count": 40,
   "metadata": {
    "collapsed": true,
    "scrolled": false
   },
   "outputs": [],
   "source": [
    "#https://stackoverflow.com/questions/49220479/how-to-group-by-according-to-the-values-of-a-list-present-in-a-column-in-datafra?noredirect=1#comment85463311_49220479\n",
    "#https://stackoverflow.com/questions/23119472/in-pandas-python-reading-array-stored-as-string\n",
    "df = pd.DataFrame({\n",
    "      'genre' : list(\n",
    "           chain.from_iterable(dataset['genre'].apply(literal_eval).tolist())\n",
    "       ), \n",
    "       'vote_average' : dataset.vote_average.repeat(dataset['genre'].apply(literal_eval).str.len()),\n",
    "       'release_year' : dataset.release_year.repeat(dataset['genre'].apply(literal_eval).str.len())\n",
    "})\n",
    "movie_group_vote_average = df.groupby(\n",
    "     ['release_year','genre'], sort=True \n",
    " )['vote_average'].mean().reset_index()\n",
    "\n"
   ]
  },
  {
   "cell_type": "markdown",
   "metadata": {},
   "source": [
    "lets see average voting of the genres for all the years (1900 - 2017)"
   ]
  },
  {
   "cell_type": "code",
   "execution_count": 41,
   "metadata": {
    "scrolled": true
   },
   "outputs": [
    {
     "data": {
      "text/html": [
       "<div>\n",
       "<style>\n",
       "    .dataframe thead tr:only-child th {\n",
       "        text-align: right;\n",
       "    }\n",
       "\n",
       "    .dataframe thead th {\n",
       "        text-align: left;\n",
       "    }\n",
       "\n",
       "    .dataframe tbody tr th {\n",
       "        vertical-align: top;\n",
       "    }\n",
       "</style>\n",
       "<table border=\"1\" class=\"dataframe\">\n",
       "  <thead>\n",
       "    <tr style=\"text-align: right;\">\n",
       "      <th></th>\n",
       "      <th>genre</th>\n",
       "      <th>vote_average</th>\n",
       "    </tr>\n",
       "  </thead>\n",
       "  <tbody>\n",
       "    <tr>\n",
       "      <th>16</th>\n",
       "      <td>Western</td>\n",
       "      <td>6.800000</td>\n",
       "    </tr>\n",
       "    <tr>\n",
       "      <th>0</th>\n",
       "      <td>Action</td>\n",
       "      <td>6.824821</td>\n",
       "    </tr>\n",
       "    <tr>\n",
       "      <th>7</th>\n",
       "      <td>Fantasy</td>\n",
       "      <td>6.832957</td>\n",
       "    </tr>\n",
       "    <tr>\n",
       "      <th>9</th>\n",
       "      <td>Horror</td>\n",
       "      <td>6.874198</td>\n",
       "    </tr>\n",
       "    <tr>\n",
       "      <th>3</th>\n",
       "      <td>Comedy</td>\n",
       "      <td>6.934536</td>\n",
       "    </tr>\n",
       "    <tr>\n",
       "      <th>13</th>\n",
       "      <td>Science Fiction</td>\n",
       "      <td>6.958622</td>\n",
       "    </tr>\n",
       "    <tr>\n",
       "      <th>1</th>\n",
       "      <td>Adventure</td>\n",
       "      <td>7.014152</td>\n",
       "    </tr>\n",
       "    <tr>\n",
       "      <th>14</th>\n",
       "      <td>Thriller</td>\n",
       "      <td>7.129115</td>\n",
       "    </tr>\n",
       "    <tr>\n",
       "      <th>12</th>\n",
       "      <td>Romance</td>\n",
       "      <td>7.159020</td>\n",
       "    </tr>\n",
       "    <tr>\n",
       "      <th>2</th>\n",
       "      <td>Animation</td>\n",
       "      <td>7.163833</td>\n",
       "    </tr>\n",
       "    <tr>\n",
       "      <th>6</th>\n",
       "      <td>Family</td>\n",
       "      <td>7.208578</td>\n",
       "    </tr>\n",
       "    <tr>\n",
       "      <th>10</th>\n",
       "      <td>Music</td>\n",
       "      <td>7.227273</td>\n",
       "    </tr>\n",
       "    <tr>\n",
       "      <th>11</th>\n",
       "      <td>Mystery</td>\n",
       "      <td>7.239770</td>\n",
       "    </tr>\n",
       "    <tr>\n",
       "      <th>8</th>\n",
       "      <td>History</td>\n",
       "      <td>7.262037</td>\n",
       "    </tr>\n",
       "    <tr>\n",
       "      <th>4</th>\n",
       "      <td>Crime</td>\n",
       "      <td>7.305325</td>\n",
       "    </tr>\n",
       "    <tr>\n",
       "      <th>15</th>\n",
       "      <td>War</td>\n",
       "      <td>7.459091</td>\n",
       "    </tr>\n",
       "    <tr>\n",
       "      <th>5</th>\n",
       "      <td>Drama</td>\n",
       "      <td>7.646763</td>\n",
       "    </tr>\n",
       "  </tbody>\n",
       "</table>\n",
       "</div>"
      ],
      "text/plain": [
       "              genre  vote_average\n",
       "16          Western      6.800000\n",
       "0            Action      6.824821\n",
       "7           Fantasy      6.832957\n",
       "9            Horror      6.874198\n",
       "3            Comedy      6.934536\n",
       "13  Science Fiction      6.958622\n",
       "1         Adventure      7.014152\n",
       "14         Thriller      7.129115\n",
       "12          Romance      7.159020\n",
       "2         Animation      7.163833\n",
       "6            Family      7.208578\n",
       "10            Music      7.227273\n",
       "11          Mystery      7.239770\n",
       "8           History      7.262037\n",
       "4             Crime      7.305325\n",
       "15              War      7.459091\n",
       "5             Drama      7.646763"
      ]
     },
     "execution_count": 41,
     "metadata": {},
     "output_type": "execute_result"
    }
   ],
   "source": [
    "movie_group_vote_average_groupby_genres = movie_group_vote_average.groupby(['genre'])['vote_average'].mean().reset_index()\n",
    "movie_group_vote_average_groupby_genres.sort_values(['vote_average'])"
   ]
  },
  {
   "cell_type": "code",
   "execution_count": 42,
   "metadata": {
    "scrolled": true
   },
   "outputs": [
    {
     "data": {
      "image/png": "[encoded data removed]",
      "text/plain": [
       "<matplotlib.figure.Figure at 0x1d91c2114a8>"
      ]
     },
     "metadata": {},
     "output_type": "display_data"
    }
   ],
   "source": [
    "#plot the graph\n",
    "genres = movie_group_vote_average_groupby_genres['genre'].tolist()\n",
    "movie_group_vote_average_groupby_genres.plot(x='genre',figsize =(20,5))\n",
    "plt.xticks(np.arange(len(genres)), genres) #np.arrange is used to show all the ticks with uniform space in between\n",
    "plt.ylabel('vote_average')\n",
    "plt.show()"
   ]
  },
  {
   "cell_type": "markdown",
   "metadata": {},
   "source": [
    "From the table above, average rating of the drama is the highest. Crime movies are also very popular. Action movie ratings are the very low."
   ]
  },
  {
   "cell_type": "markdown",
   "metadata": {},
   "source": [
    "Plot the line graph to see the trend of average voting of individual genres (top five according to the number of movies released) year wise"
   ]
  },
  {
   "cell_type": "code",
   "execution_count": 43,
   "metadata": {
    "scrolled": false
   },
   "outputs": [
    {
     "data": {
      "image/png": "[encoded data removed]",
      "text/plain": [
       "<matplotlib.figure.Figure at 0x1d91d6c19b0>"
      ]
     },
     "metadata": {},
     "output_type": "display_data"
    }
   ],
   "source": [
    "x = [] #temporary list is taken to show the individual graph\n",
    "fig = plt.figure(figsize=(15,12))\n",
    "i = 1 # counter\n",
    "for genre in top_genres:\n",
    "    x = movie_group_vote_average[movie_group_vote_average['genre']==genre]\n",
    "    fig.add_subplot(3, 2, i)\n",
    "    plt.xlabel('Year of Release')\n",
    "    plt.ylabel('average_voting')\n",
    "    plt.plot(x['release_year'].tolist(),x['vote_average'].tolist(),'o-',label=genre)\n",
    "    plt.yticks(np.arange(6.0,9.0,0.5))\n",
    "    plt.legend()\n",
    "    i +=1"
   ]
  },
  {
   "cell_type": "markdown",
   "metadata": {},
   "source": [
    "This illustration also shows vote_average of drama in consistently higher than other genres. However the average voting for individual genres decreases with the years. As the number of movie released is increasing, the average quality of the movie decreasing. Thus the average voting is showing a decreasing trend."
   ]
  },
  {
   "cell_type": "markdown",
   "metadata": {},
   "source": [
    "plot a heat map to see the overall comparison among the top five genres in last 10 years"
   ]
  },
  {
   "cell_type": "code",
   "execution_count": 44,
   "metadata": {
    "scrolled": true
   },
   "outputs": [
    {
     "data": {
      "image/png": "[encoded data removed]",
      "text/plain": [
       "<matplotlib.figure.Figure at 0x1d91d75dba8>"
      ]
     },
     "metadata": {},
     "output_type": "display_data"
    }
   ],
   "source": [
    "#filter data for last 10 years top genres\n",
    "movie_group_filtered = movie_group_vote_average[(movie_group_vote_average['release_year'] > 2007 ) & (movie_group_vote_average['genre'].isin(top_genres))]\n",
    "df_heat = movie_group_filtered.pivot_table(index='genre', columns='release_year', values='vote_average', aggfunc=np.mean)\n",
    "plt.figure(figsize = (12,6))\n",
    "sns.heatmap(df_heat, annot=True, fmt=\".1f\", cmap=\"YlGnBu\", center=6.5, vmax=8, vmin=6)\n",
    "plt.show()"
   ]
  },
  {
   "cell_type": "markdown",
   "metadata": {},
   "source": [
    "From the heat map, we can see drama has almost consistent dark color. On the other hand action is on the lighter side. Thus, this is also supporting our hypothesis made in the previous illustration"
   ]
  },
  {
   "cell_type": "markdown",
   "metadata": {},
   "source": [
    "<font color='red' style=\"font-style:italic\">number of votes per genre per year</font>"
   ]
  },
  {
   "cell_type": "markdown",
   "metadata": {},
   "source": [
    "Now lets see how the number of votes changes over the years"
   ]
  },
  {
   "cell_type": "code",
   "execution_count": 45,
   "metadata": {},
   "outputs": [
    {
     "data": {
      "text/html": [
       "<div>\n",
       "<style>\n",
       "    .dataframe thead tr:only-child th {\n",
       "        text-align: right;\n",
       "    }\n",
       "\n",
       "    .dataframe thead th {\n",
       "        text-align: left;\n",
       "    }\n",
       "\n",
       "    .dataframe tbody tr th {\n",
       "        vertical-align: top;\n",
       "    }\n",
       "</style>\n",
       "<table border=\"1\" class=\"dataframe\">\n",
       "  <thead>\n",
       "    <tr style=\"text-align: right;\">\n",
       "      <th></th>\n",
       "      <th>release_year</th>\n",
       "      <th>genre</th>\n",
       "      <th>vote_count</th>\n",
       "    </tr>\n",
       "  </thead>\n",
       "  <tbody>\n",
       "    <tr>\n",
       "      <th>0</th>\n",
       "      <td>1937</td>\n",
       "      <td>Animation</td>\n",
       "      <td>2586</td>\n",
       "    </tr>\n",
       "    <tr>\n",
       "      <th>1</th>\n",
       "      <td>1937</td>\n",
       "      <td>Family</td>\n",
       "      <td>2586</td>\n",
       "    </tr>\n",
       "    <tr>\n",
       "      <th>2</th>\n",
       "      <td>1937</td>\n",
       "      <td>Fantasy</td>\n",
       "      <td>2586</td>\n",
       "    </tr>\n",
       "    <tr>\n",
       "      <th>3</th>\n",
       "      <td>1939</td>\n",
       "      <td>Adventure</td>\n",
       "      <td>2074</td>\n",
       "    </tr>\n",
       "    <tr>\n",
       "      <th>4</th>\n",
       "      <td>1939</td>\n",
       "      <td>Drama</td>\n",
       "      <td>1246</td>\n",
       "    </tr>\n",
       "    <tr>\n",
       "      <th>5</th>\n",
       "      <td>1939</td>\n",
       "      <td>Family</td>\n",
       "      <td>2074</td>\n",
       "    </tr>\n",
       "    <tr>\n",
       "      <th>6</th>\n",
       "      <td>1939</td>\n",
       "      <td>Fantasy</td>\n",
       "      <td>2074</td>\n",
       "    </tr>\n",
       "    <tr>\n",
       "      <th>7</th>\n",
       "      <td>1939</td>\n",
       "      <td>Romance</td>\n",
       "      <td>1246</td>\n",
       "    </tr>\n",
       "    <tr>\n",
       "      <th>8</th>\n",
       "      <td>1939</td>\n",
       "      <td>War</td>\n",
       "      <td>1246</td>\n",
       "    </tr>\n",
       "    <tr>\n",
       "      <th>9</th>\n",
       "      <td>1941</td>\n",
       "      <td>Drama</td>\n",
       "      <td>1579</td>\n",
       "    </tr>\n",
       "  </tbody>\n",
       "</table>\n",
       "</div>"
      ],
      "text/plain": [
       "   release_year      genre  vote_count\n",
       "0          1937  Animation        2586\n",
       "1          1937     Family        2586\n",
       "2          1937    Fantasy        2586\n",
       "3          1939  Adventure        2074\n",
       "4          1939      Drama        1246\n",
       "5          1939     Family        2074\n",
       "6          1939    Fantasy        2074\n",
       "7          1939    Romance        1246\n",
       "8          1939        War        1246\n",
       "9          1941      Drama        1579"
      ]
     },
     "execution_count": 45,
     "metadata": {},
     "output_type": "execute_result"
    }
   ],
   "source": [
    "# flatten the genres list\n",
    "df = pd.DataFrame({\n",
    "      'genre' : list(\n",
    "           chain.from_iterable(dataset['genre'].apply(literal_eval).tolist())\n",
    "       ), \n",
    "       'vote_count' : dataset.vote_count.repeat(dataset['genre'].apply(literal_eval).str.len()),\n",
    "       'release_year' : dataset.release_year.repeat(dataset['genre'].apply(literal_eval).str.len())\n",
    "})\n",
    "#group by the movies according to the genre\n",
    "movie_group_vote_count = df.groupby(\n",
    "     ['release_year','genre'], sort=True \n",
    " )['vote_count'].sum().reset_index()\n",
    "#display movie_group\n",
    "movie_group_vote_count.head(10)"
   ]
  },
  {
   "cell_type": "markdown",
   "metadata": {},
   "source": [
    "Plot line graphs to see the trend of the count of vote for individual genres"
   ]
  },
  {
   "cell_type": "code",
   "execution_count": 46,
   "metadata": {},
   "outputs": [
    {
     "data": {
      "image/png": "[encoded data removed]",
      "text/plain": [
       "<matplotlib.figure.Figure at 0x1d91d840898>"
      ]
     },
     "metadata": {},
     "output_type": "display_data"
    }
   ],
   "source": [
    "x = [] #temporaray list to plot the graphs\n",
    "fig = plt.figure(figsize=(15,12))\n",
    "i = 1\n",
    "for genre in top_genres:\n",
    "    x = movie_group_vote_count[movie_group_vote_count['genre']==genre]\n",
    "    fig.add_subplot(3, 2, i)\n",
    "    plt.xlabel('Year of Release')\n",
    "    plt.ylabel('Number of Votes')\n",
    "    plt.plot(x['release_year'].tolist(),x['vote_count'].tolist(),'go-',label=genre)\n",
    "    plt.yticks(range(0,130000,20000))\n",
    "    plt.legend()\n",
    "    i +=1"
   ]
  },
  {
   "cell_type": "markdown",
   "metadata": {},
   "source": [
    "As with the years number of movie release is increasing, number of vote count has also increased. Action movies hasve the highest number of vote and comedy has the lowest number of votes"
   ]
  },
  {
   "cell_type": "markdown",
   "metadata": {},
   "source": [
    "plot a heat map to make a coparison of vote count among top genres in last 10 years"
   ]
  },
  {
   "cell_type": "code",
   "execution_count": 47,
   "metadata": {
    "scrolled": true
   },
   "outputs": [
    {
     "data": {
      "image/png": "[encoded data removed]",
      "text/plain": [
       "<matplotlib.figure.Figure at 0x1d91d6048d0>"
      ]
     },
     "metadata": {},
     "output_type": "display_data"
    }
   ],
   "source": [
    "#filter data for last 10 years top genres\n",
    "movie_group_filtered = movie_group_vote_count[(movie_group_vote_count['release_year'] > 2007 ) & (movie_group_vote_count['genre'].isin(top_genres))]\n",
    "df_heat = movie_group_filtered.pivot_table(index='genre', columns='release_year', values='vote_count', aggfunc=np.mean)\n",
    "plt.figure(figsize = (12,6))\n",
    "sns.heatmap(df_heat, annot=True, fmt=\".1f\", cmap=\"YlGnBu\", center=6.5)\n",
    "plt.show()"
   ]
  },
  {
   "cell_type": "markdown",
   "metadata": {},
   "source": [
    "Action has dark cells representing higher value, whereas comedy has lighter cells representing lower values"
   ]
  },
  {
   "cell_type": "markdown",
   "metadata": {},
   "source": [
    "## Final Conclusion"
   ]
  },
  {
   "cell_type": "markdown",
   "metadata": {},
   "source": [
    "From the analysis we can draw the conclusion as follows:<br/>\n",
    "<ul>\n",
    "    <li> The number of movies released per year has an increasing trend. </li>\n",
    "    <li> The movies of genres drama, crime are highly rated over the years. </li>\n",
    "    <li> As the number of movies increases, the number of votes for each genres also increase</li>\n",
    "    <li> The quality of the movie decreases with the years (as the average vote is decreasing for each individual genres) </li>\n",
    "</ul>"
   ]
  },
  {
   "cell_type": "markdown",
   "metadata": {},
   "source": [
    "so, lets verify our last two hypothesis with the correlation matrices. "
   ]
  },
  {
   "cell_type": "markdown",
   "metadata": {},
   "source": [
    "<font color='red' style=\"font-style:italic\">correlation between number of movies and vote count and average_vote</font>"
   ]
  },
  {
   "cell_type": "code",
   "execution_count": 48,
   "metadata": {
    "scrolled": true
   },
   "outputs": [
    {
     "data": {
      "text/html": [
       "<div>\n",
       "<style>\n",
       "    .dataframe thead tr:only-child th {\n",
       "        text-align: right;\n",
       "    }\n",
       "\n",
       "    .dataframe thead th {\n",
       "        text-align: left;\n",
       "    }\n",
       "\n",
       "    .dataframe tbody tr th {\n",
       "        vertical-align: top;\n",
       "    }\n",
       "</style>\n",
       "<table border=\"1\" class=\"dataframe\">\n",
       "  <thead>\n",
       "    <tr style=\"text-align: right;\">\n",
       "      <th></th>\n",
       "      <th>number_of_movies</th>\n",
       "      <th>vote_count</th>\n",
       "      <th>average ratings</th>\n",
       "    </tr>\n",
       "  </thead>\n",
       "  <tbody>\n",
       "    <tr>\n",
       "      <th>number_of_movies</th>\n",
       "      <td>1.000000</td>\n",
       "      <td>0.95495</td>\n",
       "      <td>-0.727162</td>\n",
       "    </tr>\n",
       "    <tr>\n",
       "      <th>vote_count</th>\n",
       "      <td>0.954950</td>\n",
       "      <td>1.00000</td>\n",
       "      <td>-0.696650</td>\n",
       "    </tr>\n",
       "    <tr>\n",
       "      <th>average ratings</th>\n",
       "      <td>-0.727162</td>\n",
       "      <td>-0.69665</td>\n",
       "      <td>1.000000</td>\n",
       "    </tr>\n",
       "  </tbody>\n",
       "</table>\n",
       "</div>"
      ],
      "text/plain": [
       "                  number_of_movies  vote_count  average ratings\n",
       "number_of_movies          1.000000     0.95495        -0.727162\n",
       "vote_count                0.954950     1.00000        -0.696650\n",
       "average ratings          -0.727162    -0.69665         1.000000"
      ]
     },
     "execution_count": 48,
     "metadata": {},
     "output_type": "execute_result"
    }
   ],
   "source": [
    "#number of movies and average vote count per year for top 5 genres\n",
    "vote_count_per_year = dataset.groupby(['release_year'])['vote_count'].sum()\n",
    "average_rating_per_year =  dataset.groupby(['release_year'])['vote_average'].mean()\n",
    "number_of_movies_per_year = dataset.groupby(['release_year'])['id'].count()\n",
    "\n",
    "#concat the e counts to form the dataframe\n",
    "d = pd.concat([ number_of_movies_per_year.to_frame(),vote_count_per_year.to_frame(),average_rating_per_year.to_frame()], axis=1)\n",
    "d.columns = ['number_of_movies', 'vote_count', 'average ratings']\n",
    "\n",
    "#correlation among the columns\n",
    "corr = d.corr()\n",
    "corr"
   ]
  },
  {
   "cell_type": "code",
   "execution_count": 49,
   "metadata": {},
   "outputs": [
    {
     "data": {
      "text/plain": [
       "<matplotlib.axes._subplots.AxesSubplot at 0x1d91d71a7b8>"
      ]
     },
     "execution_count": 49,
     "metadata": {},
     "output_type": "execute_result"
    },
    {
     "data": {
      "image/png": "[encoded data removed]",
      "text/plain": [
       "<matplotlib.figure.Figure at 0x1d91d509320>"
      ]
     },
     "metadata": {},
     "output_type": "display_data"
    }
   ],
   "source": [
    "#Plot the correlation\n",
    "sns.heatmap(corr)"
   ]
  },
  {
   "cell_type": "markdown",
   "metadata": {},
   "source": [
    "From the above correlation plot it is clear that number of movies and vote count is highly correlated and voting average and number of movies are negatively correlated. Thus with the increase of number of movies the average quality of movies is decreasing."
   ]
  },
  {
   "cell_type": "markdown",
   "metadata": {},
   "source": [
    "Further statistical analysis can be done to find the relationship among the genres (eg. which set of genres are most likely to succeed as a group). However, drama and crime together most likely to be the best rated genres."
   ]
  },
  {
   "cell_type": "markdown",
   "metadata": {},
   "source": [
    "Not much analysis is done for the column 'popularity'. Further analysis can be carried out for that column to show the trend of 'popularity' based on the number of search , downloads."
   ]
  }
 ],
 "metadata": {
  "kernelspec": {
   "display_name": "Python 3",
   "language": "python",
   "name": "python3"
  },
  "language_info": {
   "codemirror_mode": {
    "name": "ipython",
    "version": 3
   },
   "file_extension": ".py",
   "mimetype": "text/x-python",
   "name": "python",
   "nbconvert_exporter": "python",
   "pygments_lexer": "ipython3",
   "version": "3.6.1"
  }
 },
 "nbformat": 4,
 "nbformat_minor": 2
}
